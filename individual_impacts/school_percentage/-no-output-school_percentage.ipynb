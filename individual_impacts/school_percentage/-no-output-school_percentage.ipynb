{
 "cells": [
  {
   "cell_type": "code",
   "execution_count": null,
   "metadata": {},
   "outputs": [],
   "source": [
    "from os import getcwd\n",
    "from pandas import DataFrame, read_csv\n",
    "from scipy.stats import zscore\n",
    "from statsmodels.stats.outliers_influence import variance_inflation_factor\n",
    "from matplotlib.pyplot import figure\n",
    "from seaborn import set_theme,scatterplot,barplot,lineplot\n",
    "from numpy import abs,median,mean\n",
    "%matplotlib inline"
   ]
  },
  {
   "cell_type": "code",
   "execution_count": null,
   "metadata": {},
   "outputs": [],
   "source": [
    "set_theme(context=\"notebook\",style='darkgrid', palette='inferno')"
   ]
  },
  {
   "cell_type": "code",
   "execution_count": null,
   "metadata": {},
   "outputs": [],
   "source": [
    "df = read_csv(getcwd()[:getcwd().find(\"individual_impacts\")] + \"Engineering_graduate_salary.csv\")"
   ]
  },
  {
   "cell_type": "code",
   "execution_count": null,
   "metadata": {},
   "outputs": [],
   "source": [
    "df = df.filter(items=[\"10percentage\",\"12percentage\",\"Salary\"])"
   ]
  },
  {
   "cell_type": "code",
   "execution_count": null,
   "metadata": {},
   "outputs": [],
   "source": [
    "df[\"Salary\"] = df[\"Salary\"].replace([df[\"Salary\"][(abs(zscore(df[\"Salary\"])) > 3)]], median(df[\"Salary\"]))"
   ]
  },
  {
   "cell_type": "code",
   "execution_count": null,
   "metadata": {},
   "outputs": [],
   "source": [
    "figure(figsize=(16,16))\n",
    "plot= scatterplot(x=df[\"10percentage\"],y=df[\"12percentage\"])\n",
    "plot.set_title(\"Scatter Plot of 10percentage with 12percentage\", fontsize=14)"
   ]
  },
  {
   "cell_type": "code",
   "execution_count": null,
   "metadata": {},
   "outputs": [],
   "source": [
    "figure(figsize=(12,6))\n",
    "plot= scatterplot(x=df[\"10percentage\"], y=df[\"Salary\"])\n",
    "plot.set_title(\"Scatter Plot of 10percentage with Salary\", fontsize=14)"
   ]
  },
  {
   "cell_type": "code",
   "execution_count": null,
   "metadata": {},
   "outputs": [],
   "source": [
    "figure(figsize=(12,6))\n",
    "plot= scatterplot(x=df[\"12percentage\"], y=df[\"Salary\"])\n",
    "plot.set_title(\"Scatter Plot of 12percentage with Salary\", fontsize=14)"
   ]
  },
  {
   "cell_type": "code",
   "execution_count": null,
   "metadata": {},
   "outputs": [],
   "source": [
    "df[\n",
    "    (\n",
    "        (\n",
    "            df[\"10percentage\"] > (df[\"12percentage\"] - 5)\n",
    "        )\n",
    "        &\n",
    "        (\n",
    "            df[\"10percentage\"] < (df[\"12percentage\"] + 5)\n",
    "        )\n",
    "    )\n",
    "]"
   ]
  },
  {
   "cell_type": "markdown",
   "metadata": {},
   "source": [
    "Majority of students scored approx equal percentage in 12 as they did in 12\n",
    "\n",
    "10 percentage is range of 12 percentage +-(plux/minus) 8"
   ]
  },
  {
   "cell_type": "code",
   "execution_count": null,
   "metadata": {},
   "outputs": [],
   "source": [
    "df[\"10percentage\"].corr(df[\"12percentage\"])"
   ]
  },
  {
   "cell_type": "markdown",
   "metadata": {},
   "source": [
    "12 percentage is highly correlated with 10 percentage"
   ]
  },
  {
   "cell_type": "code",
   "execution_count": null,
   "metadata": {},
   "outputs": [],
   "source": [
    "df[\"12percentage\"].corr(df[\"Salary\"])"
   ]
  },
  {
   "cell_type": "code",
   "execution_count": null,
   "metadata": {},
   "outputs": [],
   "source": [
    "df[\"10percentage\"].corr(df[\"Salary\"])"
   ]
  },
  {
   "cell_type": "code",
   "execution_count": null,
   "metadata": {},
   "outputs": [],
   "source": [
    "X = df[['10percentage', '12percentage', 'Salary']]\n",
    "\n",
    "vif_data = DataFrame()\n",
    "vif_data[\"Column\"] = X.columns\n",
    "\n",
    "vif_data[\"VIF\"] = [variance_inflation_factor(X.values, i) for i in range(len(X.columns))]\n",
    "\n",
    "vif_data"
   ]
  },
  {
   "cell_type": "markdown",
   "metadata": {},
   "source": [
    "There is high multicollinearity between 10 percentage and 12 percentage"
   ]
  },
  {
   "cell_type": "code",
   "execution_count": null,
   "metadata": {},
   "outputs": [],
   "source": [
    "df.drop(columns=[\"10percentage\"], inplace=True)"
   ]
  },
  {
   "cell_type": "code",
   "execution_count": null,
   "metadata": {
    "tags": []
   },
   "outputs": [],
   "source": [
    "percent_range_dic = {}\n",
    "ranges = {}\n",
    "    \n",
    "for i in range(40,96,5):\n",
    "    ranges[str(i)+\"_to_\"+str(i+5)] = 0\n",
    "\n",
    "for percent in df[\"12percentage\"]:\n",
    "    for i in range(40,96,5):\n",
    "        if (percent > i and percent <= i+5):\n",
    "            ranges[str(i)+\"_to_\"+str(i+5)] = ranges[str(i)+\"_to_\"+str(i+5)] + 1\n",
    "\n",
    "percent_range_frame = DataFrame({\n",
    "    \"Ranges\": ranges.keys(),\n",
    "    \"Number of Students\": ranges.values()\n",
    "})\n",
    "percent_range_frame"
   ]
  },
  {
   "cell_type": "code",
   "execution_count": null,
   "metadata": {},
   "outputs": [],
   "source": [
    "figure(figsize=(16,8))\n",
    "plot = barplot(x=percent_range_frame[\"Ranges\"], y=percent_range_frame[\"Number of Students\"])\n",
    "plot.set_title(\"Bar Plot of 12percentage with number of students\", fontsize=14)"
   ]
  },
  {
   "cell_type": "markdown",
   "metadata": {},
   "source": [
    "Majority of students scored averagely between 60 to 85 in 12 boards"
   ]
  },
  {
   "cell_type": "code",
   "execution_count": null,
   "metadata": {},
   "outputs": [],
   "source": [
    "ranges = [40,45,50,55,60,65,70,75,80,85,90,95]\n",
    "salary_range_dic = {}\n",
    "mean_salaries = []\n",
    "median_salaries = []\n",
    "\n",
    "for i in ranges:\n",
    "    selected = df[\n",
    "        (\n",
    "            (\n",
    "                df[\"12percentage\"] > i\n",
    "            )\n",
    "            &\n",
    "            (\n",
    "                df[\"12percentage\"] <= i+5\n",
    "            )\n",
    "        )\n",
    "    ]\n",
    "    mean_salaries.append(mean(selected[\"Salary\"]))\n",
    "    median_salaries.append(median(selected[\"Salary\"]))\n",
    "\n",
    "salary_range_dic[\"Ranges\"] = ['40_to_45', '45_to_50', '50_to_55', '55_to_60', '60_to_65', '65_to_70', '70_to_75', '75_to_80', '80_to_85', '85_to_90', '90_to_95', '95_to_100']\n",
    "salary_range_dic[\"Mean Salary\"] = mean_salaries\n",
    "salary_range_dic[\"Median Salary\"] = median_salaries\n",
    "\n",
    "salary_range_frame = DataFrame(salary_range_dic)\n",
    "salary_range_frame"
   ]
  },
  {
   "cell_type": "code",
   "execution_count": null,
   "metadata": {},
   "outputs": [],
   "source": [
    "figure(figsize=(16,8))\n",
    "plot = barplot(x=salary_range_frame[\"Ranges\"], y=salary_range_frame[\"Mean Salary\"])\n",
    "plot.set_title(\"Bar Plot of 12percentage with Mean Salary\", fontsize=14)"
   ]
  },
  {
   "cell_type": "code",
   "execution_count": null,
   "metadata": {},
   "outputs": [],
   "source": [
    "figure(figsize=(16,8))\n",
    "plot = barplot(x=salary_range_frame[\"Ranges\"], y=salary_range_frame[\"Median Salary\"])\n",
    "plot.set_title(\"Bar Plot of 12percentage with Median Salary\", fontsize=14)"
   ]
  },
  {
   "cell_type": "code",
   "execution_count": null,
   "metadata": {},
   "outputs": [],
   "source": [
    "figure(figsize=(12,6))\n",
    "plot= lineplot(x=salary_range_frame[\"Ranges\"], y=salary_range_frame[\"Mean Salary\"])\n",
    "plot.set_title(\"Line Plot of Ranges with Mean Salary\", fontsize=14)"
   ]
  },
  {
   "cell_type": "code",
   "execution_count": null,
   "metadata": {},
   "outputs": [],
   "source": [
    "figure(figsize=(12,6))\n",
    "plot= lineplot(x=salary_range_frame[\"Ranges\"], y=salary_range_frame[\"Median Salary\"])\n",
    "plot.set_title(\"Line Plot of Ranges with Median Salary\", fontsize=14)"
   ]
  },
  {
   "cell_type": "markdown",
   "metadata": {},
   "source": [
    "# From above data and analysis we can deduce\n",
    "\n",
    "### Trend of Salary with 12percentage is somewhat linear with positive slope\n",
    "\n",
    "#### From the above plots we can say more the percentage in 12 better is the probabilty of getting higher package"
   ]
  }
 ],
 "metadata": {
  "interpreter": {
   "hash": "916dbcbb3f70747c44a77c7bcd40155683ae19c65e1c03b4aa3499c5328201f1"
  },
  "kernelspec": {
   "display_name": "Python 3.8.10 64-bit",
   "name": "python3"
  },
  "language_info": {
   "name": "python",
   "version": ""
  },
  "orig_nbformat": 4
 },
 "nbformat": 4,
 "nbformat_minor": 2
}