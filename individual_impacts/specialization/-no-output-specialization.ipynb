{
 "cells": [
  {
   "cell_type": "code",
   "execution_count": null,
   "metadata": {},
   "outputs": [],
   "source": [
    "from os import getcwd\n",
    "from pandas import DataFrame, read_csv, get_dummies\n",
    "from scipy.stats import zscore\n",
    "from matplotlib.pyplot import figure\n",
    "from seaborn import set_theme,barplot,countplot,heatmap,violinplot,boxplot\n",
    "from numpy import abs,median,around\n",
    "%matplotlib inline"
   ]
  },
  {
   "cell_type": "code",
   "execution_count": null,
   "metadata": {},
   "outputs": [],
   "source": [
    "set_theme(context=\"notebook\",style='darkgrid', palette='inferno')"
   ]
  },
  {
   "cell_type": "code",
   "execution_count": null,
   "metadata": {},
   "outputs": [],
   "source": [
    "df = read_csv(getcwd()[:getcwd().find(\"individual_impacts\")] + \"Engineering_graduate_salary.csv\")"
   ]
  },
  {
   "cell_type": "code",
   "execution_count": null,
   "metadata": {},
   "outputs": [],
   "source": [
    "df = df.filter(items=[\"Specialization\",\"Salary\"])"
   ]
  },
  {
   "cell_type": "code",
   "execution_count": null,
   "metadata": {},
   "outputs": [],
   "source": [
    "df[\"Salary\"] = df[\"Salary\"].replace([df[\"Salary\"][(abs(zscore(df[\"Salary\"])) > 3)]], median(df[\"Salary\"]))"
   ]
  },
  {
   "cell_type": "code",
   "execution_count": null,
   "metadata": {},
   "outputs": [],
   "source": [
    "figure(figsize=(16,8))\n",
    "plot = countplot(x=df[\"Specialization\"])\n",
    "plot.set_xticklabels(plot.get_xticklabels(),rotation=\"vertical\")\n",
    "plot.set_title(\"Count Plot of Specialization\", fontsize=14)"
   ]
  },
  {
   "cell_type": "code",
   "execution_count": null,
   "metadata": {},
   "outputs": [],
   "source": [
    "specializations = df[\"Specialization\"].value_counts()\n",
    "specializations"
   ]
  },
  {
   "cell_type": "code",
   "execution_count": null,
   "metadata": {},
   "outputs": [],
   "source": [
    "rare_specializations = specializations[specializations <= 10]\n",
    "rare_specializations"
   ]
  },
  {
   "cell_type": "code",
   "execution_count": null,
   "metadata": {},
   "outputs": [],
   "source": [
    "def remove_rare_specialization(value):\n",
    "    if value in rare_specializations:\n",
    "        return 'other'\n",
    "    else:\n",
    "        return value\n",
    "df[\"Specialization\"] = df[\"Specialization\"].apply(remove_rare_specialization)\n",
    "df[\"Specialization\"].value_counts()"
   ]
  },
  {
   "cell_type": "code",
   "execution_count": null,
   "metadata": {},
   "outputs": [],
   "source": [
    "figure(figsize=(16,8))\n",
    "plot = countplot(x=df[\"Specialization\"])\n",
    "plot.set_xticklabels(plot.get_xticklabels(),rotation=\"vertical\")\n",
    "plot.set_title(\"Count Plot of Specialization\", fontsize=14)"
   ]
  },
  {
   "cell_type": "code",
   "execution_count": null,
   "metadata": {},
   "outputs": [],
   "source": [
    "figure(figsize=(16,8))\n",
    "plot = violinplot(x=df[\"Specialization\"], y=df[\"Salary\"])\n",
    "plot.set_xticklabels(plot.get_xticklabels(),rotation=\"vertical\")\n",
    "plot.set_title(\"Violin Plot of Specialization with Salary\", fontsize=14)"
   ]
  },
  {
   "cell_type": "code",
   "execution_count": null,
   "metadata": {},
   "outputs": [],
   "source": [
    "figure(figsize=(16,8))\n",
    "plot = barplot(x=df[\"Specialization\"], y=df[\"Salary\"])\n",
    "plot.set_xticklabels(plot.get_xticklabels(),rotation=\"vertical\")\n",
    "plot.set_title(\"Bar Plot of Specialization with Salary\", fontsize=14)"
   ]
  },
  {
   "cell_type": "code",
   "execution_count": null,
   "metadata": {},
   "outputs": [],
   "source": [
    "figure(figsize=(16,8))\n",
    "plot = boxplot(x=df[\"Specialization\"], y=df[\"Salary\"])\n",
    "plot.set_xticklabels(plot.get_xticklabels(),rotation=\"vertical\")\n",
    "plot.set_title(\"Box Plot of Specialization with Salary\", fontsize=14)"
   ]
  },
  {
   "cell_type": "code",
   "execution_count": null,
   "metadata": {},
   "outputs": [],
   "source": [
    "df = get_dummies(df, columns=[\"Specialization\"], prefix=\"specialization\")"
   ]
  },
  {
   "cell_type": "code",
   "execution_count": null,
   "metadata": {},
   "outputs": [],
   "source": [
    "figure(figsize=(16,16))\n",
    "plot = heatmap(df.corr(), annot=True)\n",
    "plot.set_title(\"Correlation Matrix\", fontsize=18)"
   ]
  },
  {
   "cell_type": "code",
   "execution_count": null,
   "metadata": {},
   "outputs": [],
   "source": [
    "specializations = df.columns.tolist()\n",
    "specializations.remove('Salary')\n",
    "specializations"
   ]
  },
  {
   "cell_type": "code",
   "execution_count": null,
   "metadata": {},
   "outputs": [],
   "source": [
    "corelations = {}\n",
    "\n",
    "for specialization in specializations:\n",
    "    corelations[specialization] = df[specialization].corr(df[\"Salary\"])\n",
    "\n",
    "frame = DataFrame({\n",
    "    \"Specialization\": corelations.keys(),\n",
    "    \"Corr\": corelations.values()\n",
    "})\n",
    "\n",
    "frame"
   ]
  },
  {
   "cell_type": "code",
   "execution_count": null,
   "metadata": {},
   "outputs": [],
   "source": [
    "dic = {}\n",
    "\n",
    "for specialization in specializations:\n",
    "    selected = df[df[specialization] == 1]\n",
    "    \n",
    "    students_in_specialization = selected.shape[0]\n",
    "\n",
    "    to_3 = 0\n",
    "    to_6 = 0\n",
    "    to_inf = 0\n",
    "    for salary in selected['Salary']:\n",
    "        if (salary < 300000) :\n",
    "            to_3 = to_3 + 1\n",
    "        elif (salary >= 300000  and salary < 600000):\n",
    "            to_6 = to_6 + 1\n",
    "        else:\n",
    "            to_inf = to_inf + 1\n",
    "    \n",
    "    dic[specialization] = {\n",
    "        \"0 to 300000\": around(abs(to_3 / students_in_specialization), decimals=1),\n",
    "        \"300000 to 600000\": around(abs(to_6 / students_in_specialization), decimals=1),\n",
    "        \"600000 or more\": around(abs(to_inf / students_in_specialization), decimals=1)\n",
    "        }\n",
    "\n",
    "package_frame = DataFrame(dic)\n",
    "\n",
    "package_frame"
   ]
  },
  {
   "cell_type": "markdown",
   "metadata": {},
   "source": [
    "# From above data and analysis we can deduce \n",
    "\n",
    "### ***6 out of 10*** Computer Engineering students have recieved packages between ***3 - 6 lakh***\n",
    "\n",
    "### Computer Engineering students averagely recieved highest packages\n",
    "- 1 out of 10 students recieved packages above ***6 lakh***\n",
    "- 6 out of 10 students recieved packages between ***3 - 6 lakh***\n",
    "- 3 out of 10 students recieved packages upto ***3 lakh***"
   ]
  }
 ],
 "metadata": {
  "interpreter": {
   "hash": "916dbcbb3f70747c44a77c7bcd40155683ae19c65e1c03b4aa3499c5328201f1"
  },
  "kernelspec": {
   "display_name": "Python 3.8.10 64-bit",
   "name": "python3"
  },
  "language_info": {
   "name": "python",
   "version": ""
  },
  "orig_nbformat": 4
 },
 "nbformat": 4,
 "nbformat_minor": 2
}