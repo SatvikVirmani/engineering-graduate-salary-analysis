{
 "metadata": {
  "language_info": {
   "codemirror_mode": {
    "name": "ipython",
    "version": 3
   },
   "file_extension": ".py",
   "mimetype": "text/x-python",
   "name": "python",
   "nbconvert_exporter": "python",
   "pygments_lexer": "ipython3",
   "version": "3.9.1"
  },
  "orig_nbformat": 4,
  "kernelspec": {
   "name": "python3",
   "display_name": "Python 3.9.1 64-bit"
  },
  "interpreter": {
   "hash": "d2190d104b16a734e993f2697fba33d415d2cbdc5c90e8fa67708b8a242f25d4"
  }
 },
 "nbformat": 4,
 "nbformat_minor": 2,
 "cells": [
  {
   "cell_type": "code",
   "execution_count": null,
   "metadata": {},
   "outputs": [],
   "source": [
    "from os import getcwd\n",
    "from pandas import DataFrame, read_csv, get_dummies\n",
    "from scipy.stats import zscore\n",
    "from statsmodels.stats.outliers_influence import variance_inflation_factor\n",
    "from matplotlib.pyplot import figure\n",
    "from seaborn import set_theme,scatterplot,barplot,countplot,heatmap,violinplot,boxplot\n",
    "from numpy import abs,median,around\n",
    "%matplotlib inline"
   ]
  },
  {
   "cell_type": "code",
   "execution_count": null,
   "metadata": {},
   "outputs": [],
   "source": [
    "set_theme(context=\"notebook\",style='darkgrid', palette='inferno')"
   ]
  },
  {
   "cell_type": "code",
   "execution_count": null,
   "metadata": {},
   "outputs": [],
   "source": [
    "df = read_csv(getcwd()[:getcwd().find(\"individual_impacts\")] + \"Engineering_graduate_salary.csv\")"
   ]
  },
  {
   "cell_type": "code",
   "execution_count": null,
   "metadata": {},
   "outputs": [],
   "source": [
    "df = df.filter(items=[\"10board\",\"12board\",\"Salary\"])"
   ]
  },
  {
   "cell_type": "code",
   "execution_count": null,
   "metadata": {},
   "outputs": [],
   "source": [
    "df[\"Salary\"] = df[\"Salary\"].replace([df[\"Salary\"][(abs(zscore(df[\"Salary\"])) > 3)]], median(df[\"Salary\"]))"
   ]
  },
  {
   "cell_type": "code",
   "execution_count": null,
   "metadata": {},
   "outputs": [],
   "source": [
    "figure(figsize=(16,16))\n",
    "plot= scatterplot(x=df[\"10board\"],y=df[\"12board\"])\n",
    "plot.set(xticklabels=[],yticklabels=[])\n",
    "plot.set_title(\"Scatter Plot of 10board with 12board\", fontsize=14)"
   ]
  },
  {
   "cell_type": "code",
   "execution_count": null,
   "metadata": {},
   "outputs": [],
   "source": [
    "df[df[\"10board\"] == df[\"12board\"]].shape[0]"
   ]
  },
  {
   "source": [
    "Majority of the students opted same board in 12\n",
    "\n",
    "For further analysis I will drop 10 board"
   ],
   "cell_type": "markdown",
   "metadata": {}
  },
  {
   "cell_type": "code",
   "execution_count": null,
   "metadata": {},
   "outputs": [],
   "source": [
    "df.drop(columns=[\"10board\"], inplace=True)"
   ]
  },
  {
   "cell_type": "code",
   "execution_count": null,
   "metadata": {},
   "outputs": [],
   "source": [
    "figure(figsize=(16,8))\n",
    "plot = countplot(x=df[\"12board\"])\n",
    "plot.set_xticklabels(plot.get_xticklabels(),rotation=\"vertical\")\n",
    "plot.set_title(\"Count Plot of 12board\", fontsize=14)"
   ]
  },
  {
   "cell_type": "code",
   "execution_count": null,
   "metadata": {},
   "outputs": [],
   "source": [
    "board = df[\"12board\"].value_counts()\n",
    "board"
   ]
  },
  {
   "source": [
    "Some boards are opted by very less students in this DataFrame\n",
    "\n",
    "So I will classify rarely opted boards as other"
   ],
   "cell_type": "markdown",
   "metadata": {}
  },
  {
   "cell_type": "code",
   "execution_count": null,
   "metadata": {},
   "outputs": [],
   "source": [
    "rare_board = board[board <= 10]\n",
    "rare_board"
   ]
  },
  {
   "cell_type": "code",
   "execution_count": null,
   "metadata": {},
   "outputs": [],
   "source": [
    "def remove_rare_board(value):\n",
    "    if value in rare_board:\n",
    "        return 'other'\n",
    "    else:\n",
    "        return value\n",
    "df[\"12board\"] = df[\"12board\"].apply(remove_rare_board)\n",
    "df[\"12board\"].value_counts()"
   ]
  },
  {
   "cell_type": "code",
   "execution_count": null,
   "metadata": {},
   "outputs": [],
   "source": [
    "df = df[df[\"12board\"] != '0']"
   ]
  },
  {
   "cell_type": "code",
   "execution_count": null,
   "metadata": {},
   "outputs": [],
   "source": [
    "figure(figsize=(16,8))\n",
    "plot = countplot(x=df[\"12board\"])\n",
    "plot.set_xticklabels(plot.get_xticklabels(),rotation=\"vertical\")\n",
    "plot.set_title(\"Count Plot of 12board\", fontsize=14)"
   ]
  },
  {
   "source": [
    "Majority of students opted CBSE board and state boards"
   ],
   "cell_type": "markdown",
   "metadata": {}
  },
  {
   "cell_type": "code",
   "execution_count": null,
   "metadata": {},
   "outputs": [],
   "source": [
    "figure(figsize=(16,8))\n",
    "plot = violinplot(x=df[\"12board\"], y=df[\"Salary\"])\n",
    "plot.set_xticklabels(plot.get_xticklabels(),rotation=\"vertical\")\n",
    "plot.set_title(\"Bar Plot of 12board with Salary\", fontsize=14)"
   ]
  },
  {
   "source": [
    "Students belonging to ISC board received highest package\n",
    "\n",
    "But averagely MP board students received higher packages"
   ],
   "cell_type": "markdown",
   "metadata": {}
  },
  {
   "cell_type": "code",
   "execution_count": null,
   "metadata": {},
   "outputs": [],
   "source": [
    "figure(figsize=(16,8))\n",
    "plot = boxplot(x=df[\"12board\"], y=df[\"Salary\"])\n",
    "plot.set_xticklabels(plot.get_xticklabels(),rotation=\"vertical\")\n",
    "plot.set_title(\"Bar Plot of 12board with Salary\", fontsize=14)"
   ]
  },
  {
   "cell_type": "code",
   "execution_count": null,
   "metadata": {},
   "outputs": [],
   "source": [
    "figure(figsize=(16,8))\n",
    "plot = barplot(x=df[\"12board\"], y=df[\"Salary\"])\n",
    "plot.set_xticklabels(plot.get_xticklabels(),rotation=\"vertical\")\n",
    "plot.set_title(\"Bar Plot of 12board with Salary\", fontsize=14)"
   ]
  },
  {
   "cell_type": "code",
   "execution_count": null,
   "metadata": {},
   "outputs": [],
   "source": [
    "df = get_dummies(df, columns=[\"12board\"], prefix=\"board\")"
   ]
  },
  {
   "cell_type": "code",
   "execution_count": null,
   "metadata": {},
   "outputs": [],
   "source": [
    "figure(figsize=(16,16))\n",
    "plot = heatmap(df.corr(), annot=True)\n",
    "plot.set_title(\"Correlation Matrix\", fontsize=18)"
   ]
  },
  {
   "cell_type": "code",
   "execution_count": null,
   "metadata": {},
   "outputs": [],
   "source": [
    "boards = df.columns.tolist()\n",
    "boards.remove('Salary')\n",
    "boards"
   ]
  },
  {
   "cell_type": "code",
   "execution_count": null,
   "metadata": {},
   "outputs": [],
   "source": [
    "corelations = {}\n",
    "\n",
    "for board in boards:\n",
    "    corelations[board] = df[board].corr(df[\"Salary\"])\n",
    "\n",
    "frame = DataFrame({\n",
    "    \"Board\": corelations.keys(),\n",
    "    \"Corr\": corelations.values()\n",
    "})\n",
    "\n",
    "frame"
   ]
  },
  {
   "cell_type": "code",
   "execution_count": null,
   "metadata": {
    "tags": []
   },
   "outputs": [],
   "source": [
    "dic = {}\n",
    "\n",
    "for board in boards:\n",
    "    selected = df[df[board] == 1]\n",
    "    \n",
    "    students_in_board = selected.shape[0]\n",
    "\n",
    "    to_3 = 0\n",
    "    to_6 = 0\n",
    "    to_inf = 0\n",
    "    for salary in selected['Salary']:\n",
    "        if (salary < 300000) :\n",
    "            to_3 = to_3 + 1\n",
    "        elif (salary >= 300000  and salary < 600000):\n",
    "            to_6 = to_6 + 1\n",
    "        else:\n",
    "            to_inf = to_inf + 1\n",
    "    \n",
    "    dic[board] = {\n",
    "        \"0 to 300000\": around(abs(to_3 / students_in_board), decimals=1),\n",
    "        \"300000 to 600000\": around(abs(to_6 / students_in_board), decimals=1),\n",
    "        \"600000 or more\": around(abs(to_inf / students_in_board), decimals=1)\n",
    "        }\n",
    "\n",
    "package_frame = DataFrame(dic)\n",
    "\n",
    "package_frame"
   ]
  },
  {
   "source": [
    "# From above data and analysis we can deduce \n",
    "\n",
    "### ***8 out of 10*** ISC board students have recieved packages between ***3 - 6 lakh***\n",
    "\n",
    "### MP board students averagely recieved highest packages\n",
    "- 2 out of 10 students recieved packages above ***6 lakh***\n",
    "- 6 out of 10 students recieved packages between ***3 - 6 lakh***"
   ],
   "cell_type": "markdown",
   "metadata": {}
  }
 ]
}